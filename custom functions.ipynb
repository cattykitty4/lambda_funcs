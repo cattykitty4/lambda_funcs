{
 "cells": [
  {
   "cell_type": "code",
   "execution_count": 1,
   "id": "a08af191",
   "metadata": {},
   "outputs": [
    {
     "name": "stdout",
     "output_type": "stream",
     "text": [
      "Cloning into 'lambda_funcs'...\n",
      "remote: Enumerating objects: 25, done.\u001b[K\n",
      "remote: Counting objects: 100% (25/25), done.\u001b[K\n",
      "remote: Compressing objects: 100% (20/20), done.\u001b[K\n",
      "remote: Total 25 (delta 3), reused 16 (delta 0), pack-reused 0 (from 0)\u001b[K\n",
      "Receiving objects: 100% (25/25), 4.72 KiB | 2.36 MiB/s, done.\n",
      "Resolving deltas: 100% (3/3), done.\n"
     ]
    }
   ],
   "source": [
    "!git clone https://github.com/cattykitty4/lambda_funcs"
   ]
  },
  {
   "cell_type": "code",
   "execution_count": 7,
   "id": "d0ea5f17",
   "metadata": {},
   "outputs": [],
   "source": [
    "from lambda_funcs import isAnagramm"
   ]
  },
  {
   "cell_type": "code",
   "execution_count": 8,
   "id": "f7510836",
   "metadata": {},
   "outputs": [
    {
     "name": "stdout",
     "output_type": "stream",
     "text": [
      "def isAnagramm(x: [list], y: str) -> list:\n",
      "    collector = []\n",
      "\n",
      "    for el in x:\n",
      "        if sorted(el) == sorted(y):  # for strings sorted() function sort in alphabetical order\n",
      "            collector.append(el)\n",
      "\n",
      "    return collector\n",
      "\n"
     ]
    }
   ],
   "source": [
    "import inspect\n",
    "\n",
    "print(inspect.getsource(isAnagramm))"
   ]
  },
  {
   "cell_type": "code",
   "execution_count": 9,
   "id": "85856bff",
   "metadata": {},
   "outputs": [
    {
     "name": "stdout",
     "output_type": "stream",
     "text": [
      "['bcda', 'cbda', 'adcb']\n"
     ]
    }
   ],
   "source": [
    "print(isAnagramm(['bcda', 'abce', 'cbda', 'cbea', 'adcb'], 'abcd'))"
   ]
  },
  {
   "cell_type": "code",
   "execution_count": 11,
   "id": "9ae3ba59",
   "metadata": {},
   "outputs": [],
   "source": [
    "from lambda_funcs import checkIsDigit\n",
    "from lambda_funcs import findNumber"
   ]
  },
  {
   "cell_type": "code",
   "execution_count": 12,
   "id": "45a4ed8e",
   "metadata": {},
   "outputs": [
    {
     "name": "stdout",
     "output_type": "stream",
     "text": [
      "def checkIsDigit(j, y):\n",
      "    return y.isdigit() and int(y) > j\n",
      "\n",
      "def findNumber(x):\n",
      "    x = x.split()  # split string by elements and convert it into list\n",
      "    find_len = len(x)  # find length of x\n",
      "    numbers_collector = [el for el in x if checkIsDigit(find_len, el)]  # calling function checkIsDigit\n",
      "    # which returns true or false and then list comprehension adds element into list if el is digit and bigger than find len\n",
      "    return numbers_collector\n",
      "\n"
     ]
    }
   ],
   "source": [
    "print(inspect.getsource(checkIsDigit))\n",
    "print(inspect.getsource(findNumber))"
   ]
  },
  {
   "cell_type": "code",
   "execution_count": 13,
   "id": "2bf8a1a9",
   "metadata": {},
   "outputs": [
    {
     "name": "stdout",
     "output_type": "stream",
     "text": [
      "['23', '56', '20']\n"
     ]
    }
   ],
   "source": [
    "print(findNumber('sdf 23 safs8 5 sdfsd8 sdfs 56 21sfs 20 5'))"
   ]
  },
  {
   "cell_type": "code",
   "execution_count": 14,
   "id": "1d9298c1",
   "metadata": {},
   "outputs": [],
   "source": [
    "from lambda_funcs import totalLenNames"
   ]
  },
  {
   "cell_type": "code",
   "execution_count": 15,
   "id": "e2f74765",
   "metadata": {},
   "outputs": [
    {
     "name": "stdout",
     "output_type": "stream",
     "text": [
      "def totalLenNames(x):  # this simple code is checking elements whether the element starts with a capital letter\n",
      "    collector = []\n",
      "\n",
      "    for el in x:\n",
      "        if el.istitle():\n",
      "            collector.extend(el)\n",
      "\n",
      "    return len(collector)\n",
      "\n"
     ]
    }
   ],
   "source": [
    "print(inspect.getsource(totalLenNames))"
   ]
  },
  {
   "cell_type": "code",
   "execution_count": 16,
   "id": "4f99679d",
   "metadata": {},
   "outputs": [
    {
     "name": "stdout",
     "output_type": "stream",
     "text": [
      "16\n"
     ]
    }
   ],
   "source": [
    "print(totalLenNames(['sally', 'Dylan', 'rebecca', 'Diana', 'Joanne', 'keith']))"
   ]
  },
  {
   "cell_type": "code",
   "execution_count": 17,
   "id": "22b029df",
   "metadata": {},
   "outputs": [],
   "source": [
    "from lambda_funcs import minMaxLen"
   ]
  },
  {
   "cell_type": "code",
   "execution_count": 18,
   "id": "bc2f8cd3",
   "metadata": {},
   "outputs": [
    {
     "name": "stdout",
     "output_type": "stream",
     "text": [
      "def minMaxLen(x: list[list[int]]):\n",
      "    max_el = []                             # initiate two lists which will be collect result\n",
      "    min_el = []\n",
      "\n",
      "    max_len = 0\n",
      "    min_len = float('inf')                  # initiate min len with 'inf' value to correct comparison with nested lists\n",
      "                                            # which not in ascending order\n",
      "    for el in x:\n",
      "        if len(el) > max_len:\n",
      "            max_len = len(el)\n",
      "            if len(el) > len(max_el):\n",
      "                max_el.clear()              # clear list to del previous correct result\n",
      "                max_el.append(el)\n",
      "\n",
      "        if len(el) < min_len:\n",
      "            min_len = len(el)\n",
      "            if len(el) > len(min_el):\n",
      "                min_el.clear()              # clear list to del previous correct result\n",
      "                min_el.append(el)\n",
      "\n",
      "    return (min_len, *min_el), (max_len, *max_el)\n",
      "\n"
     ]
    }
   ],
   "source": [
    "print(inspect.getsource(minMaxLen))"
   ]
  },
  {
   "cell_type": "code",
   "execution_count": 19,
   "id": "23ca36f1",
   "metadata": {},
   "outputs": [
    {
     "name": "stdout",
     "output_type": "stream",
     "text": [
      "((1, [0]), (3, [13, 15, 17]))\n",
      "((2, [5, 7]), (4, [13, 15, 0, 17]))\n"
     ]
    }
   ],
   "source": [
    "print(minMaxLen([[0], [1, 3], [5, 7], [9, 11], [13, 15, 17]]))\n",
    "print(minMaxLen([[1, 1, 3], [5, 7], [9, 11], [13, 15, 0, 17], [13, 15, 17]]))"
   ]
  },
  {
   "cell_type": "code",
   "execution_count": null,
   "id": "5792694f",
   "metadata": {},
   "outputs": [],
   "source": []
  },
  {
   "cell_type": "code",
   "execution_count": 21,
   "id": "5766926a",
   "metadata": {},
   "outputs": [],
   "source": [
    "from lambda_funcs import numsSum"
   ]
  },
  {
   "cell_type": "code",
   "execution_count": 22,
   "id": "46b07dd4",
   "metadata": {},
   "outputs": [
    {
     "name": "stdout",
     "output_type": "stream",
     "text": [
      "def numsSum(x: list[int]):  # this is simple function to sum +inf nums with +inf nums and -inf nums with -inf nums\n",
      "    total_of_positive = 0\n",
      "    total_of_negative = 0\n",
      "\n",
      "    for el in x:\n",
      "        if el < 0:\n",
      "            total_of_negative += el\n",
      "        else:\n",
      "            total_of_positive += el\n",
      "\n",
      "    return f'{total_of_positive}\\n{total_of_negative}'\n",
      "\n"
     ]
    }
   ],
   "source": [
    "print(inspect.getsource(numsSum))"
   ]
  },
  {
   "cell_type": "code",
   "execution_count": 23,
   "id": "14b1ea3f",
   "metadata": {},
   "outputs": [
    {
     "name": "stdout",
     "output_type": "stream",
     "text": [
      "48\n",
      "-32\n"
     ]
    }
   ],
   "source": [
    "print(numsSum([2, 4, -6, -9, 11, -12, 14, -5, 17]))"
   ]
  },
  {
   "cell_type": "code",
   "execution_count": null,
   "id": "c0ff2e45",
   "metadata": {},
   "outputs": [],
   "source": []
  }
 ],
 "metadata": {
  "kernelspec": {
   "display_name": "Python 3 (ipykernel)",
   "language": "python",
   "name": "python3"
  },
  "language_info": {
   "codemirror_mode": {
    "name": "ipython",
    "version": 3
   },
   "file_extension": ".py",
   "mimetype": "text/x-python",
   "name": "python",
   "nbconvert_exporter": "python",
   "pygments_lexer": "ipython3",
   "version": "3.9.19"
  }
 },
 "nbformat": 4,
 "nbformat_minor": 5
}
